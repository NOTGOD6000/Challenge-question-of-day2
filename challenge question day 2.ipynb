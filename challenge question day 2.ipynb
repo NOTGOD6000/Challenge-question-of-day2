{
  "nbformat": 4,
  "nbformat_minor": 0,
  "metadata": {
    "colab": {
      "provenance": [],
      "authorship_tag": "ABX9TyM8rnoJO/S0KQqrmRoOrK6M",
      "include_colab_link": true
    },
    "kernelspec": {
      "name": "python3",
      "display_name": "Python 3"
    },
    "language_info": {
      "name": "python"
    }
  },
  "cells": [
    {
      "cell_type": "markdown",
      "metadata": {
        "id": "view-in-github",
        "colab_type": "text"
      },
      "source": [
        "<a href=\"https://colab.research.google.com/github/NOTGOD6000/Challenge-question-of-day2/blob/main/challenge%20question%20day%202.ipynb\" target=\"_parent\"><img src=\"https://colab.research.google.com/assets/colab-badge.svg\" alt=\"Open In Colab\"/></a>"
      ]
    },
    {
      "cell_type": "markdown",
      "source": [
        "\n",
        "Challenge Question\n",
        "1. Write a python program to sort the list of heterogeneous data.\n",
        "\n",
        "e.g.\n",
        "L = [\"Ram\", 1, \"Shyam\", 2, \"Aman\", 3]\n",
        "\n",
        "print(L)\n",
        "\n",
        "L.sort()\n",
        "\n",
        "print(L)\n",
        "# Above code gives error. Correct it."
      ],
      "metadata": {
        "id": "mQ5TTduf9U1J"
      }
    },
    {
      "cell_type": "code",
      "execution_count": 3,
      "metadata": {
        "colab": {
          "base_uri": "https://localhost:8080/"
        },
        "id": "IZSiaAWr9Tip",
        "outputId": "302de240-d69b-4c25-8283-906b3a2d7e30"
      },
      "outputs": [
        {
          "output_type": "stream",
          "name": "stdout",
          "text": [
            "Sorted List: ['Aman', 'Ram', 'Shyam', 1, 2, 3]\n"
          ]
        }
      ],
      "source": [
        "# Original List\n",
        "L = [\"Ram\", 1, \"Shyam\", 2, \"Aman\", 3]\n",
        "\n",
        "# Lists to hold strings and numbers separately\n",
        "strings = []\n",
        "numbers = []\n",
        "\n",
        "# Loop through the list to separate strings and numbers\n",
        "for i in L:\n",
        "    if type(i) == str:\n",
        "        strings.append(i)\n",
        "    else:\n",
        "        numbers.append(i)\n",
        "\n",
        "#sorting\n",
        "strings.sort()\n",
        "numbers.sort()\n",
        "\n",
        "# Combine the sorted lists\n",
        "new_L= strings + numbers\n",
        "\n",
        "# Print the result\n",
        "print(\"Sorted List:\",new_L)\n"
      ]
    }
  ]
}